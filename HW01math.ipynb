{
 "cells": [
  {
   "cell_type": "markdown",
   "metadata": {
    "deletable": false,
    "nbgrader": {
     "checksum": "4e6cefb0049d48a2f4648d752841bb06",
     "grade": false,
     "grade_id": "cell-b038e38b5e3072a9",
     "locked": false,
     "schema_version": 1,
     "solution": false
    }
   },
   "source": [
    "# IST 718: Big Data Analytics\n",
    "\n",
    "- Professor: Willard Williamson <wewillia@syr.edu>\n",
    "- Faculty Assistant: Palaniappan Muthukkaruppan\n",
    "## General instructions:\n",
    "\n",
    "- You are welcome to discuss the problems with your classmates but __you are not allowed to copy any part of your answers from your classmates.  Short code snippets are allowed from the internet.  Any code is allowed from the class text books or class provided code.__\n",
    "- Please do not change the file names. The FAs and the professor use these names to grade your homework.\n",
    "- Remove or comment out code that contains `raise NotImplementedError`. This is mainly to make the `assert` statement fail if nothing is submitted.\n",
    "- The tests shown in some cells (i.e., `assert` and `np.testing.` statements) are used to grade your answers. **However, the professor and FAs will use __additional__ test for your answer. Think about cases where your code should run even if it passess all the tests you see.**\n",
    "- Before submitting your work through Blackboard, remember to save and press `Validate` (or go to \n",
    "`Kernel`$\\rightarrow$`Restart and Run All`)."
   ]
  },
  {
   "cell_type": "markdown",
   "metadata": {},
   "source": [
    "## Math (50 pts)"
   ]
  },
  {
   "cell_type": "markdown",
   "metadata": {},
   "source": [
    "## Probability (40 pts)"
   ]
  },
  {
   "cell_type": "markdown",
   "metadata": {},
   "source": [
    "The cell below creates a string named pi out to one million decimal places.  Note that this cell may take a few minutes to run to completion."
   ]
  },
  {
   "cell_type": "code",
   "execution_count": 73,
   "metadata": {},
   "outputs": [
    {
     "name": "stdout",
     "output_type": "stream",
     "text": [
      "3.14159265358979323846264338327950288419716939937510582097494459230781640628620899862803482534211706\n"
     ]
    }
   ],
   "source": [
    "import numpy as np\n",
    "num_pi_digits = 1000000\n",
    "\n",
    "try:\n",
    "    # import version included with old SymPy\n",
    "    from sympy.mpmath import mp\n",
    "except ImportError:\n",
    "    # import newer version\n",
    "    from mpmath import mp\n",
    "mp.dps = num_pi_digits  # set number of digits\n",
    "\n",
    "# convert pi to a string\n",
    "pi = mp.nstr(mp.pi, num_pi_digits)\n",
    "\n",
    "# print to 100 decimal places\n",
    "print(pi[:100])\n",
    "\n",
    "# remove the decimal point\n",
    "pi = pi.replace(\".\", \"\")"
   ]
  },
  {
   "cell_type": "markdown",
   "metadata": {},
   "source": [
    "**Question 3.1 (5 pts)** Compute and print the marginal probabilites $P(X_i)$ where X = 0, 1, 2, 3, ..., 9 across all numbers (before and after the decimal point).  Your answer should print 10 marginal probabilities."
   ]
  },
  {
   "cell_type": "code",
   "execution_count": 72,
   "metadata": {},
   "outputs": [
    {
     "name": "stdout",
     "output_type": "stream",
     "text": [
      "0.099959 0.099757 0.100026 0.10023 0.10023 0.100359 0.099548 0.0998 0.099985 0.100106\n"
     ]
    }
   ],
   "source": [
    "# Your answer here\n",
    "counts = [0] * 10 #create an empty list to store the counts\n",
    "for num in pi:\n",
    "    counts[int(num)] += 1\n",
    "\n",
    "probs = []  \n",
    "for count in counts:\n",
    "    probs.append(str(count/len(pi)))\n",
    "    \n",
    "print(' '.join(probs))"
   ]
  },
  {
   "cell_type": "markdown",
   "metadata": {},
   "source": [
    "**Question 3.2 (5 pts)** What kind of distribution do the probabilities in 3.1 suggest?"
   ]
  },
  {
   "cell_type": "code",
   "execution_count": 15,
   "metadata": {},
   "outputs": [],
   "source": [
    "# your answer here\n",
    "#The distribution of the numbers are pretty even, with each digits appearing around 10% of the time."
   ]
  },
  {
   "cell_type": "markdown",
   "metadata": {},
   "source": [
    "**Question 3.3 (10 pts)** Compute the joint probability $P(x_i = 1, x_i-1 = 3)$.  Based on the result, what can you say about the independence relationship?"
   ]
  },
  {
   "cell_type": "code",
   "execution_count": 63,
   "metadata": {},
   "outputs": [
    {
     "name": "stdout",
     "output_type": "stream",
     "text": [
      "0.00993900993900994\n"
     ]
    }
   ],
   "source": [
    "# your answer here\n",
    "#joint probability is AND\n",
    "\n",
    "jointCount = 0\n",
    "\n",
    "for i in range(1, len(pi)):\n",
    "    if pi[i] == '1' and (pi[i-1]) == '3':\n",
    "        jointCount +=1\n",
    "        \n",
    "print(jointCount/(len(pi)-1))\n",
    "\n",
    "#based on the result, the independent relationship is very rare, occuring around 1% of the time."
   ]
  },
  {
   "cell_type": "markdown",
   "metadata": {},
   "source": [
    "**Question 3.4 (10 pts)** Compute the conditional probability $P(x_i = 3 | x_i-1 = 1)$. "
   ]
  },
  {
   "cell_type": "code",
   "execution_count": 65,
   "metadata": {},
   "outputs": [
    {
     "name": "stdout",
     "output_type": "stream",
     "text": [
      "0.10036388423870005\n"
     ]
    }
   ],
   "source": [
    "# your answer here\n",
    "denominator = 0\n",
    "numerator = 0\n",
    "\n",
    "for i in range(1, len(pi)):\n",
    "    if pi[i-1] == '1':\n",
    "        denominator += 1\n",
    "        if pi[i] == '3':\n",
    "            numerator +=1\n",
    "\n",
    "print(numerator/denominator)counts = [0] * 10\n",
    "for num in pi:\n",
    "    counts[int(num)] += 1\n",
    "\n",
    "probs = []  \n",
    "for count in counts:\n",
    "    probs.append(str(count/len(pi)))\n",
    "    \n",
    "print(' '.join(probs))"
   ]
  },
  {
   "cell_type": "markdown",
   "metadata": {},
   "source": [
    "**Question 3.5 (10 pts)**\n",
    "Assuming that the decimal point is removed from pi, let A be the pi values at indices 1-1000, let B be the pi values at indices 2-1001, let C be the pi values at indices 3-1002.  Compute the sample covariance matrix for A, B, C against each other. without using the built-in command (i.e. code it yourself). The result should be a 3x3 matrix."
   ]
  },
  {
   "cell_type": "code",
   "execution_count": 92,
   "metadata": {},
   "outputs": [
    {
     "name": "stdout",
     "output_type": "stream",
     "text": [
      "[[8.421845845845793, -0.3038318318318324, -0.006438438438436388], [-0.3038318318318324, 8.411927927927865, -0.31070670670670597], [-0.006438438438436388, -0.31070670670670597, 8.424100100100057]]\n"
     ]
    }
   ],
   "source": [
    "# Your answer here\n",
    "#Cov(X, Y) = Σ ( Xi - X ) ( Yi - Y ) / N = Σ xiyi / N\n",
    "# without using build in command such as NumPy\n",
    "def covariance(x,y):\n",
    "    u = sum(x)/len(x)\n",
    "    v = sum(y)/len(y)\n",
    "    E = 0\n",
    "    for i in range(len(x)):\n",
    "        E += (x[i] - u) * (y[i] - v)\n",
    "    return E/(len(x)-1)\n",
    "\n",
    "#create the three arrays\n",
    "A = [int(i) for i in pi[1:1001]]\n",
    "B = [int(i) for i in pi[2:1002]]\n",
    "C = [int(i) for i in pi[3:1003]]\n",
    "\n",
    "#3x1000 matrix\n",
    "stack = [A, B, C]\n",
    "#create empty matrix\n",
    "samp_cov_matrix = []\n",
    "\n",
    "for X in stack:\n",
    "    row_cov = []\n",
    "    for Y in stack:\n",
    "        row_cov.append(covariance(X,Y))\n",
    "    samp_cov_matrix.append(row_cov)\n",
    "\n",
    "print(samp_cov_matrix)"
   ]
  },
  {
   "cell_type": "code",
   "execution_count": 91,
   "metadata": {},
   "outputs": [
    {
     "name": "stdout",
     "output_type": "stream",
     "text": [
      "samp_cov_matrix:\n",
      "\n",
      "[[ 8.42184585e+00 -3.03831832e-01 -6.43843844e-03]\n",
      " [-3.03831832e-01  8.41192793e+00 -3.10706707e-01]\n",
      " [-6.43843844e-03 -3.10706707e-01  8.42410010e+00]]\n"
     ]
    }
   ],
   "source": [
    "# with NumPy, much easier\n",
    "arrayA = np.array(A)\n",
    "arrayB = np.array(B)\n",
    "arrayC = np.array(C)\n",
    "\n",
    "x = np.vstack([arrayA,arrayB,arrayC])\n",
    "samp_cov_matrix = np.cov(x)\n",
    "\n",
    "print(\"samp_cov_matrix:\\n\")\n",
    "print(samp_cov_matrix)"
   ]
  },
  {
   "cell_type": "markdown",
   "metadata": {},
   "source": [
    "## Linear Algebra (10 pts)"
   ]
  },
  {
   "cell_type": "markdown",
   "metadata": {},
   "source": [
    "**Question 3.5 (5 pts)** Compute the following matrix multiplications\n",
    "$$\n",
    "\\quad\n",
    "\\begin{bmatrix} \n",
    "1 \\\\\n",
    "2 \\\\\n",
    "3\n",
    "\\end{bmatrix}\n",
    "\\quad\n",
    "*\n",
    "\\quad\n",
    "\\begin{bmatrix} \n",
    "4 & 5 & 6\n",
    "\\end{bmatrix}\n",
    "\\quad\n",
    "$$"
   ]
  },
  {
   "cell_type": "code",
   "execution_count": 70,
   "metadata": {},
   "outputs": [
    {
     "name": "stdout",
     "output_type": "stream",
     "text": [
      "[[ 4  5  6]\n",
      " [ 8 10 12]\n",
      " [12 15 18]]\n"
     ]
    }
   ],
   "source": [
    "# your answer here\n",
    "# 3x1 matrix\n",
    "X = np.array([[1],[2],[3]])\n",
    "# 1x3 matrix\n",
    "Y = np.array([[4,5,6]])\n",
    "\n",
    "print(X.dot(Y))"
   ]
  },
  {
   "cell_type": "markdown",
   "metadata": {},
   "source": [
    "**Question 3.6 (5 pts)** Compute the following matrix multiplications\n",
    "\n",
    "$$\n",
    "\\quad\n",
    "\\begin{bmatrix} \n",
    "1 & 2 \\\\\n",
    "3 & 4 \\\\\n",
    "6 & 0 \\\\\n",
    "\\end{bmatrix}\n",
    "\\quad\n",
    "*\n",
    "\\quad\n",
    "\\begin{bmatrix} \n",
    "2 & 5 & 3\\\\\n",
    "2 & 5 & 1\n",
    "\\end{bmatrix}\n",
    "\\quad\n",
    "*\n",
    "\\quad\n",
    "\\begin{bmatrix} \n",
    "1\\\\\n",
    "2\\\\\n",
    "1\n",
    "\\end{bmatrix}\n",
    "\\quad\n",
    "$$"
   ]
  },
  {
   "cell_type": "code",
   "execution_count": 71,
   "metadata": {},
   "outputs": [
    {
     "name": "stdout",
     "output_type": "stream",
     "text": [
      "[[ 51]\n",
      " [123]\n",
      " [126]]\n"
     ]
    }
   ],
   "source": [
    "# your answer here\n",
    "#3x2 matrix\n",
    "X = np.array(\n",
    "    [[1,2],\n",
    "     [3,4],\n",
    "     [6,0]])\n",
    "# 2x3 matrix\n",
    "Y = np.array(\n",
    "    [[2,5,3],\n",
    "     [2,5,1]])\n",
    "# 3x1 matrix\n",
    "Z = np.array(\n",
    "    [[1],\n",
    "     [2],\n",
    "     [3]])\n",
    "\n",
    "print(X.dot(Y).dot(Z))\n",
    "\n",
    "#[51]\n",
    "#[123]\n",
    "#[126]"
   ]
  },
  {
   "cell_type": "markdown",
   "metadata": {},
   "source": [
    "**Extra Credit (5 pts)**  This question is optional.  If you choose to answer this question, you will earn 5 extra credit points.  If you choose not to answer this question, no points will be deducted from your score.  Solve the following equation for $c$ symbolically using the python sympy package.  Convert the solved symbolic solution to a latex format (this can be done with a pyton call), then populate the solution cell with the resulting latex code so that your solution shows up symbolically similar the equation below.\n",
    "\n",
    "$$c g - c h + e \\left(a + 1\\right)^{b} - \\frac{d \\left(\\left(a + 1\\right)^{b} - 1\\right)}{a} + \\frac{f \\left(\\left(a + 1\\right)^{b} - 1\\right)}{a} = 0$$"
   ]
  },
  {
   "cell_type": "code",
   "execution_count": null,
   "metadata": {},
   "outputs": [],
   "source": [
    "# your code here"
   ]
  },
  {
   "cell_type": "markdown",
   "metadata": {},
   "source": [
    "Your solved equation in latex here:\n"
   ]
  }
 ],
 "metadata": {
  "celltoolbar": "Edit Metadata",
  "kernelspec": {
   "display_name": "Python 3",
   "language": "python",
   "name": "python3"
  },
  "language_info": {
   "codemirror_mode": {
    "name": "ipython",
    "version": 3
   },
   "file_extension": ".py",
   "mimetype": "text/x-python",
   "name": "python",
   "nbconvert_exporter": "python",
   "pygments_lexer": "ipython3",
   "version": "3.7.1"
  }
 },
 "nbformat": 4,
 "nbformat_minor": 2
}
