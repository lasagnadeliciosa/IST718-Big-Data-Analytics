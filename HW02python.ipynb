{
 "cells": [
  {
   "cell_type": "markdown",
   "metadata": {
    "deletable": false,
    "nbgrader": {
     "checksum": "4e6cefb0049d48a2f4648d752841bb06",
     "grade": false,
     "grade_id": "cell-b038e38b5e3072a9",
     "locked": false,
     "schema_version": 1,
     "solution": false
    }
   },
   "source": [
    "# IST 718: Big Data Analytics\n",
    "\n",
    "- Professor: Willard Williamson <wewillia@syr.edu>\n",
    "- Faculty Assistant: Palaniappan Muthukkaruppan\n",
    "## General instructions:\n",
    "\n",
    "- You are welcome to discuss the problems with your classmates but __you are not allowed to copy any part of your answers from your classmates.  Short code snippets are allowed from the internet.  Any code is allowed from the class text books or class provided code.__\n",
    "- Please do not change the file names. The FAs and the professor use these names to grade your homework.\n",
    "- Remove or comment out code that contains `raise NotImplementedError`. This is mainly to make the `assert` statement fail if nothing is submitted.\n",
    "- The tests shown in some cells (i.e., `assert` and `np.testing.` statements) are used to grade your answers. **However, the professor and FAs will use __additional__ test for your answer. Think about cases where your code should run even if it passess all the tests you see.**\n",
    "- Before submitting your work through Blackboard, remember to save and press `Validate` (or go to \n",
    "`Kernel`$\\rightarrow$`Restart and Run All`)."
   ]
  },
  {
   "cell_type": "code",
   "execution_count": 1,
   "metadata": {},
   "outputs": [],
   "source": [
    "# import packages needed\n",
    "import numpy as np\n",
    "import pandas as pd\n",
    "import matplotlib.pyplot as plt"
   ]
  },
  {
   "cell_type": "markdown",
   "metadata": {},
   "source": [
    "## Part 1. Basic Python programming (30 pts)"
   ]
  },
  {
   "cell_type": "markdown",
   "metadata": {},
   "source": [
    "**Question 1.1 (10 pts)** Reverse the words in a sentence. Implement a function `scramble_sentence` that takes a sentence as a string and returns a string where the words have been reversed. For example, `scramble_sentence(\"Hello World\")` should return `\"olleH dlroW\"`. Consider that strings are just like any other sequence such as lists and tuples and therefore can be accessed with the slice notation. Also you can use the method `slice` of string object to split a sentence into its individual words and `join` to put a list of strings inside another string. For example, `\" \".join([\"hello\", \"world\"])` will create `\"hello world\"`. You can use list comprehensions or for-loops to solve this problem."
   ]
  },
  {
   "cell_type": "code",
   "execution_count": 2,
   "metadata": {
    "deletable": false,
    "nbgrader": {
     "checksum": "085f5b48fbce649d8e6a5f12381f40ce",
     "grade": false,
     "grade_id": "cell-5eb87107d2800505",
     "locked": false,
     "schema_version": 1,
     "solution": true
    }
   },
   "outputs": [],
   "source": [
    "# Create the function scramble_sentence below\n",
    "# YOUR CODE HERE\n",
    "def scramble_sentence(a):\n",
    "    words = a.split(\" \")\n",
    "    newWord = [i[::-1] for i in words]\n",
    "    newSentence = \" \".join(newWord)\n",
    "    return newSentence"
   ]
  },
  {
   "cell_type": "code",
   "execution_count": 3,
   "metadata": {},
   "outputs": [
    {
     "data": {
      "text/plain": [
       "'eeGeeG NINI red'"
      ]
     },
     "execution_count": 3,
     "metadata": {},
     "output_type": "execute_result"
    }
   ],
   "source": [
    "#alternative method\n",
    "def scramble_sentence(a):\n",
    "    newReverse = a[::-1] #red NINI eeGeeG\n",
    "    newReversedList = newReverse.split(' ')[::-1] #[eeGeeG, NINI, red]\n",
    "    newSentence = \" \".join(newReversedList)\n",
    "    return newSentence\n",
    "\n",
    "scramble_sentence(\"GeeGee ININ der\")"
   ]
  },
  {
   "cell_type": "code",
   "execution_count": 4,
   "metadata": {
    "deletable": false,
    "editable": false,
    "nbgrader": {
     "checksum": "da34aac4c035b267f3ff5816fd031fba",
     "grade": true,
     "grade_id": "cell-17c0ac01cace4b18",
     "locked": true,
     "points": 10,
     "schema_version": 1,
     "solution": false
    }
   },
   "outputs": [],
   "source": [
    "# 10 pts\n",
    "np.testing.assert_equal(scramble_sentence(\"Hello World\"), \"olleH dlroW\")\n",
    "np.testing.assert_equal(scramble_sentence(\"Data Science\"), \"ataD ecneicS\")"
   ]
  },
  {
   "cell_type": "markdown",
   "metadata": {},
   "source": [
    "**Question 1.2 (10 pts)** Basic statistics. Create a function `statistic` which receives two parameters: a list of floating point numbers and a statistic. The statistic will be a string containing either `\"max\"`, `\"min\"`, or `\"average\"`. The function will return the provided statistic of the list. For example, `statistic([1.0, 3.5, 6.0], \"max\")` should return `6.0`, `statistic([1.0, 3.5, 6.0], \"min\")` should return `1.0`, and `statistic([1.0, 3.5, 6.0], \"average\")` should return `3.5`. If the statistic provided is not part of min, max, or average, return the string \"Error\". Don't assume that the list is a numpy array but rather a vanilla Python list."
   ]
  },
  {
   "cell_type": "code",
   "execution_count": 5,
   "metadata": {
    "deletable": false,
    "nbgrader": {
     "checksum": "93c89a396ab6aa6ace9fe98663691b74",
     "grade": false,
     "grade_id": "cell-48471c8515aa4e5c",
     "locked": false,
     "schema_version": 1,
     "solution": true
    }
   },
   "outputs": [],
   "source": [
    "# create the function statistic here\n",
    "# YOUR CODE HERE\n",
    "def statistic(numbers, stat):\n",
    "    if stat == \"max\":\n",
    "        return max(numbers)\n",
    "    elif stat == \"min\":\n",
    "        return min(numbers)\n",
    "    elif stat == \"average\":\n",
    "        return sum(numbers)/len(numbers)\n",
    "    else:\n",
    "        return(\"Error\")"
   ]
  },
  {
   "cell_type": "code",
   "execution_count": 6,
   "metadata": {
    "deletable": false,
    "editable": false,
    "nbgrader": {
     "checksum": "e943372f6c350987929750bb43e37729",
     "grade": true,
     "grade_id": "cell-fc6a0f4ea3e7d63d",
     "locked": true,
     "points": 10,
     "schema_version": 1,
     "solution": false
    }
   },
   "outputs": [],
   "source": [
    "# 10 pts\n",
    "np.testing.assert_equal(statistic([1.0, 3.5, 6.0], \"max\"), 6.0)\n",
    "np.testing.assert_equal(statistic([1.0, 3.5, 6.0], \"min\"), 1.0)\n",
    "np.testing.assert_equal(statistic([1.0, 3.5, 6.0], \"average\"), 3.5)\n",
    "np.testing.assert_equal(statistic([1.0, 3.5, 6.0], \"mode\"), \"Error\")"
   ]
  },
  {
   "cell_type": "markdown",
   "metadata": {},
   "source": [
    "**Question 1.3 (Numpy, 10 pts)** Estimate the value of $\\sqrt[3]{3}$ by simulation. In class, we saw an example of how to estimate $ \\pi $ using number random generation. In this question, you will estimate the cube root of 3 using a similar idea. \n",
    "\n",
    "You can generate uniform random numbers between 0 and 1 using the method `numpy.random.random` in the package `numpy`. For example:"
   ]
  },
  {
   "cell_type": "code",
   "execution_count": 7,
   "metadata": {},
   "outputs": [
    {
     "name": "stdout",
     "output_type": "stream",
     "text": [
      "[0.05968529 0.49049117 0.0558318  0.36272742 0.13425592]\n"
     ]
    }
   ],
   "source": [
    "import numpy.random\n",
    "x = numpy.random.random(size=5)\n",
    "print(x)"
   ]
  },
  {
   "cell_type": "markdown",
   "metadata": {},
   "source": [
    "`x` has an numpy array of 5 random numbers between 0 and 1. Notice that you can create a list of random numbers between 0 and 2 by simply multiplying `x` by 2:"
   ]
  },
  {
   "cell_type": "code",
   "execution_count": 8,
   "metadata": {},
   "outputs": [
    {
     "data": {
      "text/plain": [
       "array([0.11937059, 0.98098234, 0.1116636 , 0.72545484, 0.26851183])"
      ]
     },
     "execution_count": 8,
     "metadata": {},
     "output_type": "execute_result"
    }
   ],
   "source": [
    "x*2"
   ]
  },
  {
   "cell_type": "markdown",
   "metadata": {},
   "source": [
    "We will use this fact to estimate the side $r$ of a cube whose volume is 3. It is easy to notice that $r \\leq 3$ because $r^3 = 3$. We will use this fact in the simulation. Specifically, we can estimate $\\sqrt[3]{3}$ by generating random cubes with sides between 0 and 3 with `numpy`. Then we can estimate the ratio $p$ of times these random cubes have a volume less or equal to 3. This ratio will represent approximately $ p \\approx \\frac{\\sqrt[3]{3}}{3} $ if you look at the overlapping ratio of the sides of the cube (why is this?). Use this fact to estimate $\\sqrt[3]{3}$. **Of course do not use `np.power` or a similar function in any of your calculations.** Use a sample of 100000 random numbers.\n",
    "\n",
    "Below, create the following variables:\n",
    "\n",
    "- `s`: random sides of your cubes\n",
    "- `p`: ratio of times the random cubes are less or equal to 3\n",
    "- ``: your estimation of the cube root of 3 based on `s` and `p`"
   ]
  },
  {
   "cell_type": "code",
   "execution_count": 179,
   "metadata": {
    "deletable": false,
    "nbgrader": {
     "checksum": "2d488b9ce0d64d863d724afc6ca32625",
     "grade": false,
     "grade_id": "cell-8804dcdb0db3c1bb",
     "locked": false,
     "schema_version": 1,
     "solution": true
    }
   },
   "outputs": [
    {
     "name": "stdout",
     "output_type": "stream",
     "text": [
      "1.43493\n",
      "1.4422495703074083\n"
     ]
    }
   ],
   "source": [
    "# Put your answer in this cell. Create variables s, p, and sqrt3of3 here\n",
    "#1\n",
    "N = 100000\n",
    "s = numpy.random.random(size=N)*3\n",
    "\n",
    "#2\n",
    "under = s[s**3 <= 3]\n",
    "p = numpy.true_divide(len(under),N)\n",
    "\n",
    "#3\n",
    "sqrt3of3 = p*3\n",
    "\n",
    "print(p*3)\n",
    "\n",
    "#check answer\n",
    "#print(np.power(3, 1/3))"
   ]
  },
  {
   "cell_type": "code",
   "execution_count": 183,
   "metadata": {
    "deletable": false,
    "editable": false,
    "nbgrader": {
     "checksum": "c85e91e702512fe3db9aa45321433ec7",
     "grade": true,
     "grade_id": "cell-78e5ab9e0ac7f0c1",
     "locked": true,
     "points": 2,
     "schema_version": 1,
     "solution": false
    }
   },
   "outputs": [],
   "source": [
    "# 2 pts\n",
    "np.testing.assert_equal(type(s), np.ndarray)\n",
    "np.testing.assert_equal(s.shape, (100000, ))"
   ]
  },
  {
   "cell_type": "code",
   "execution_count": 184,
   "metadata": {
    "deletable": false,
    "editable": false,
    "nbgrader": {
     "checksum": "ca74a7b50de716e4cd951e3c2f73bfe7",
     "grade": true,
     "grade_id": "cell-be49e25de2c28220",
     "locked": true,
     "points": 2,
     "schema_version": 1,
     "solution": false
    }
   },
   "outputs": [],
   "source": [
    "# 2 pts\n",
    "np.testing.assert_equal(type(p), np.float64)"
   ]
  },
  {
   "cell_type": "code",
   "execution_count": 185,
   "metadata": {
    "deletable": false,
    "editable": false,
    "nbgrader": {
     "checksum": "2825b8c2cd5ffe4ab2d64a9f925fe189",
     "grade": true,
     "grade_id": "cell-eb8c07afab2180dc",
     "locked": true,
     "points": 6,
     "schema_version": 1,
     "solution": false
    }
   },
   "outputs": [],
   "source": [
    "# 6 pts\n",
    "np.testing.assert_almost_equal(sqrt3of3, np.power(3, 1/3), decimal=2)"
   ]
  },
  {
   "cell_type": "markdown",
   "metadata": {},
   "source": [
    "## Matplotlib (10 pts)"
   ]
  },
  {
   "cell_type": "code",
   "execution_count": 186,
   "metadata": {},
   "outputs": [],
   "source": [
    "# import needed packages\n",
    "import matplotlib.pyplot as plt\n",
    "import numpy as np"
   ]
  },
  {
   "cell_type": "markdown",
   "metadata": {},
   "source": [
    "Use the following dataset"
   ]
  },
  {
   "cell_type": "code",
   "execution_count": 189,
   "metadata": {},
   "outputs": [],
   "source": [
    "# create the data\n",
    "group = np.array(['young', 'old', 'young', 'young', 'young', 'old', 'young', 'old', 'old', \n",
    "                  'young', 'young', 'old', 'young', 'young', 'old', 'old', 'old', 'old', 'old', \n",
    "                  'young', 'old', 'old', 'young', 'old', 'old', 'old', 'old', 'old', 'old', 'old', \n",
    "                  'young', 'young', 'young', 'old', 'young', 'old', 'old', 'old', 'young', 'young', \n",
    "                  'old', 'old', 'young', 'old', 'old', 'young', 'old', 'young', 'old', 'young', 'young', \n",
    "                  'young', 'old', 'young', 'old', 'old', 'young', 'young', 'old', 'old', 'young', 'old', \n",
    "                  'old', 'young', 'young', 'young', 'young', 'young', 'old', 'old', 'old', 'old', 'young', \n",
    "                  'old', 'old', 'young', 'old', 'old', 'old', 'old', 'old', 'old', 'young', 'young', \n",
    "                  'old', 'young', 'old', 'old', 'old', 'old', 'young', 'young', 'young', 'old',\n",
    "                  'old', 'young', 'old', 'old', 'young', 'young'])\n",
    "age = np.array([37.0, 41.0, 42.0, 41.0, 36.0, 46.0, 31.0, 43.0, 46.0, 36.0, 36.0, 43.0, 28.0, 35.0, \n",
    "                46.0, 51.0, 41.0, 51.0, 55.0, 38.0, 50.0, 52.0, 44.0, 43.0, 49.0, 52.0, 54.0, 42.0, \n",
    "                44.0, 51.0, 33.0, 38.0, 33.0, 47.0, 35.0, 47.0, 46.0, 40.0, 36.0, 35.0, 44.0, 44.0, \n",
    "                31.0, 51.0, 44.0, 34.0, 52.0, 36.0, 51.0, 38.0, 39.0, 29.0, 38.0, 42.0, 47.0, 44.0, \n",
    "                39.0, 24.0, 51.0, 41.0, 36.0, 41.0, 46.0, 28.0, 24.0, 32.0, 36.0, 36.0, 46.0, 55.0, \n",
    "                55.0, 38.0, 36.0, 47.0, 37.0, 29.0, 45.0, 44.0, 45.0, 44.0, 47.0, 44.0, 39.0, 35.0, \n",
    "                42.0, 35.0, 39.0, 47.0, 45.0, 41.0, 35.0, 41.0, 34.0, 41.0, 39.0, 34.0, 43.0, 42.0, \n",
    "                36.0, 32.0])\n",
    "income = np.array([38202.0, 44883.0, 42011.0, 35934.0, 35561.0, 42219.0, 35113.0, 42141.0, 41041.0, \n",
    "                   38442.0, 37445.0, 40634.0, 32318.0, 37991.0, 43268.0, 45893.0, 39100.0, 48929.0, \n",
    "                   47271.0, 36575.0, 44893.0, 49479.0, 37809.0, 41565.0, 43805.0, 43887.0, 49753.0, \n",
    "                   41668.0, 38260.0, 47663.0, 35522.0, 37105.0, 34757.0, 41890.0, 40052.0, 42313.0, \n",
    "                   40720.0, 37984.0, 40259.0, 33736.0, 45272.0, 42000.0, 31468.0, 51204.0, 40887.0, \n",
    "                   38974.0, 46151.0, 35729.0, 48820.0, 42052.0, 35463.0, 32899.0, 42328.0, 44504.0, \n",
    "                   45697.0, 42009.0, 41934.0, 31368.0, 47346.0, 39064.0, 35646.0, 41512.0, 46011.0, \n",
    "                   30096.0, 27235.0, 32728.0, 39859.0, 40774.0, 46112.0, 49337.0, 51348.0, 36289.0, \n",
    "                   40332.0, 47470.0, 36637.0, 31849.0, 40644.0, 44750.0, 47441.0, 40280.0, 44322.0, \n",
    "                   43532.0, 39243.0, 34646.0, 39483.0, 38488.0, 38063.0, 43645.0, 40608.0, 37451.0, \n",
    "                   33825.0, 38936.0, 36828.0, 40781.0, 40228.0, 34174.0, 38186.0, 41781.0, 31930.0, \n",
    "                   34096.0])"
   ]
  },
  {
   "cell_type": "markdown",
   "metadata": {},
   "source": [
    "**Question 1.4: (5 pts)** Below, plot the histogram of the income of the \"old\" population. Use the `group` variable to select from `income` the appropriate datapoints."
   ]
  },
  {
   "cell_type": "code",
   "execution_count": 195,
   "metadata": {
    "deletable": false,
    "nbgrader": {
     "checksum": "de914d5b824d3fbde54a41a1a3250d9d",
     "grade": true,
     "grade_id": "cell-7990846e56e9d7cc",
     "locked": false,
     "points": 5,
     "schema_version": 1,
     "solution": true
    }
   },
   "outputs": [
    {
     "data": {
      "text/plain": [
       "(array([ 3.,  6.,  8., 11.,  6.,  6.,  5.,  5.,  5.,  2.]),\n",
       " array([36289. , 37794.9, 39300.8, 40806.7, 42312.6, 43818.5, 45324.4,\n",
       "        46830.3, 48336.2, 49842.1, 51348. ]),\n",
       " <a list of 10 Patch objects>)"
      ]
     },
     "execution_count": 195,
     "metadata": {},
     "output_type": "execute_result"
    },
    {
     "data": {
      "image/png": "[encoded data removed]",
      "text/plain": [
       "<Figure size 432x288 with 1 Axes>"
      ]
     },
     "metadata": {
      "needs_background": "light"
     },
     "output_type": "display_data"
    }
   ],
   "source": [
    "# 5 pts\n",
    "# YOUR CODE HERE\n",
    "oldIncome = [income[i] for i in range(len(group)) if group[i] == 'old']\n",
    "\n",
    "#plot income of old ppl using index number of i\n",
    "plt.hist(oldIncome)"
   ]
  },
  {
   "cell_type": "markdown",
   "metadata": {},
   "source": [
    "**Question 1.5:** (5 pts) Produce one scatter plot using `plt.scatter` to depic the relationship between `age` and `income`.  However, put the scatter plot of the 'young' group in green and the 'old' group in 'blue'. **The plot must have a legend describing the groups, a title describing the relationship plotted, and labels for both axes.**"
   ]
  },
  {
   "cell_type": "code",
   "execution_count": 220,
   "metadata": {
    "deletable": false,
    "nbgrader": {
     "checksum": "a7454070b7c395fce97347a5fa756bcd",
     "grade": true,
     "grade_id": "cell-29505be5567d1727",
     "locked": false,
     "points": 5,
     "schema_version": 1,
     "solution": true
    }
   },
   "outputs": [
    {
     "data": {
      "text/plain": [
       "<matplotlib.legend.Legend at 0x120bddef0>"
      ]
     },
     "execution_count": 220,
     "metadata": {},
     "output_type": "execute_result"
    },
    {
     "data": {
      "image/png": "[encoded data removed]",
      "text/plain": [
       "<Figure size 432x288 with 1 Axes>"
      ]
     },
     "metadata": {
      "needs_background": "light"
     },
     "output_type": "display_data"
    }
   ],
   "source": [
    "# 5 pts\n",
    "# YOUR CODE HERE\n",
    "oldIncome = [income[i] for i in range(len(group)) if group[i] == 'old']\n",
    "youngIncome = [income[i] for i in range(len(group)) if group[i] == 'young']\n",
    "oldAge = [age[i] for i in range(len(group)) if group[i] == 'old']\n",
    "youngAge = [age[i] for i in range(len(group)) if group[i] == 'young']\n",
    "\n",
    "plt.plot(oldAge, oldIncome, 'o', color ='blue', label = 'old')\n",
    "plt.plot(youngAge, youngIncome, 'o', color ='green', label = 'young')\n",
    "plt.title(\"Income vs. Age\")\n",
    "plt.xlabel(\"Age\")\n",
    "plt.ylabel(\"Income\")\n",
    "plt.legend(loc=4)"
   ]
  },
  {
   "cell_type": "markdown",
   "metadata": {},
   "source": [
    "# Pandas (10 pts)"
   ]
  },
  {
   "cell_type": "markdown",
   "metadata": {},
   "source": [
    "using a modified dataset from above"
   ]
  },
  {
   "cell_type": "code",
   "execution_count": 261,
   "metadata": {},
   "outputs": [],
   "source": [
    "# import needed packages\n",
    "import matplotlib.pyplot as plt\n",
    "import numpy as np\n",
    "import pandas as pd\n",
    "\n",
    "# create the data\n",
    "group2 = np.array(['young', 'old', 'young', 'young', 'young', 'old', 'young', 'old', 'old', 'young', \n",
    "                   'young', 'old', 'young', 'young', 'old', 'old', 'old', 'old', 'old', 'young', 'old', \n",
    "                   'old', 'young', 'old', 'old', 'old', 'old', 'old', 'old', 'old', 'young', 'young',\n",
    "                   'young', 'old', 'young', 'old', 'old', 'old', 'young', 'young', 'old', 'old', 'young', \n",
    "                   'old', 'old', 'young', 'old', 'young', 'old', 'young', 'young', 'young', 'old', 'young',\n",
    "                   'old', 'old', 'young', 'young', 'old', 'old', 'young', 'old', 'old', 'young', 'young',\n",
    "                   'young', 'young', 'young', 'old', 'old', 'old', 'old', 'young', 'old', 'old', 'young', \n",
    "                   'old', 'old', 'old', 'old', 'old', 'old', 'young', 'young', 'old', 'young', 'old', 'old',\n",
    "                   'old', 'old', 'young', 'young', 'young', 'old', 'old', 'young', 'old', 'old', 'young', 'young'])\n",
    "age2 = np.array([37.0, 41.0, 42.0, 41.0, 36.0, 46.0, 31.0, 43.0, 46.0, 36.0, 36.0, None, 28.0, 35.0, \n",
    "                 46.0, 51.0, 41.0, 51.0, 55.0, 38.0, 50.0, 52.0, 44.0, 43.0, 49.0, 52.0, 54.0, 42.0, \n",
    "                 44.0, 51.0, 33.0, 38.0, 33.0, 47.0, 35.0, 47.0, 46.0, 40.0, 36.0, 35.0, 44.0, 44.0, \n",
    "                 None, 51.0, 44.0, 34.0, 52.0, 36.0, 51.0, 38.0, 39.0, 29.0, 38.0, 42.0, 47.0, None, \n",
    "                 39.0, 24.0, 51.0, 41.0, 36.0, 41.0, 46.0, 28.0, 24.0, 32.0, 36.0, 36.0, 46.0, 55.0, \n",
    "                 55.0, 38.0, 36.0, 47.0, 37.0, 29.0, 45.0, 44.0, 45.0, 44.0, 47.0, 44.0, 39.0, 35.0, \n",
    "                 42.0, 35.0, 39.0, 47.0, 45.0, 41.0, 35.0, 41.0, 34.0, 41.0, 39.0, 34.0, 43.0, 42.0, \n",
    "                 36.0, 32.0], float)\n",
    "income2 = np.array([38202.0, 44883.0, 42011.0, 35934.0, 35561.0, 42219.0, 35113.0, 42141.0, 41041.0, \n",
    "                    38442.0, 37445.0, 40634.0, 32318.0, 37991.0, 43268.0, 45893.0, 39100.0, 48929.0, \n",
    "                    47271.0, 36575.0, 44893.0, 49479.0, 37809.0, 41565.0, 43805.0, 43887.0, 49753.0, \n",
    "                    41668.0, 38260.0, 47663.0, 35522.0, 37105.0, 34757.0, 41890.0, 40052.0, 42313.0,\n",
    "                    40720.0, 37984.0, 40259.0, None, 45272.0, 42000.0, 31468.0, 51204.0, 40887.0, \n",
    "                    38974.0, 46151.0, 35729.0, 48820.0, 42052.0, 35463.0, 32899.0, 42328.0, 44504.0, \n",
    "                    45697.0, 42009.0, 41934.0, 31368.0, 47346.0, 39064.0, 35646.0, 41512.0, 46011.0, \n",
    "                    30096.0, 27235.0, 32728.0, 39859.0, 40774.0, 46112.0, 49337.0, 51348.0, 36289.0,\n",
    "                    None, 47470.0, 36637.0, 31849.0, 40644.0, 44750.0, 47441.0, 40280.0, 44322.0, \n",
    "                    43532.0, 39243.0, 34646.0, 39483.0, 38488.0, 38063.0, 43645.0, 40608.0, 37451.0,\n",
    "                    33825.0, 38936.0, 36828.0, 40781.0, 40228.0, 34174.0, 38186.0, 41781.0, None, 34096.0], float)"
   ]
  },
  {
   "cell_type": "markdown",
   "metadata": {},
   "source": [
    "**Question 1.6:** (5 pts): Create a dataframe `df` that contains three columns with names `group`, `age`, and `income`, respectively, based on the variables `group2`, `age2`, and `income2` created in the cell above. Use the Pandas DataFrame functionality to compute the mean age and income of each group assign them to `avg_age` and `avg_income`"
   ]
  },
  {
   "cell_type": "code",
   "execution_count": 303,
   "metadata": {
    "deletable": false,
    "nbgrader": {
     "checksum": "fd5aaf025b5eabba335c90765131832e",
     "grade": false,
     "grade_id": "cell-aa8ea4eae878a704",
     "locked": false,
     "schema_version": 1,
     "solution": true
    }
   },
   "outputs": [],
   "source": [
    "# Create the variables df, avg_age, and avg_income below\n",
    "# YOUR CODE HERE\n",
    "d = {'group':group2, 'age':age2, 'income':income2} #create df using dictionary\n",
    "df = pd.DataFrame(d)\n",
    "\n",
    "avg_age = df['age'].mean()\n",
    "avg_income = df['income'].mean()"
   ]
  },
  {
   "cell_type": "code",
   "execution_count": 283,
   "metadata": {
    "deletable": false,
    "editable": false,
    "nbgrader": {
     "checksum": "6196399fac9a92335499f34983d49da2",
     "grade": true,
     "grade_id": "cell-3754ac35fe34111a",
     "locked": true,
     "points": 5,
     "schema_version": 1,
     "solution": false
    }
   },
   "outputs": [],
   "source": [
    "# 5 pts\n",
    "np.testing.assert_equal(set(df.columns), {'age', 'group', 'income'})\n",
    "np.testing.assert_approx_equal(avg_age, 41.09, significant=1)\n",
    "np.testing.assert_approx_equal(avg_income, 40452.14, significant=1)"
   ]
  },
  {
   "cell_type": "markdown",
   "metadata": {},
   "source": [
    "**Question 1.7:** (5 pts) Standardize features. Standardize the age and income in the dataframe from Question 5.1. Standardization is the process of subtracting the mean of a feature and dividing the result by the standard deviation of the feature. Use the Pandas `apply` method or some other method of your choice to perform the stanardization.  Create a variable `df2` with the resulting dataframe."
   ]
  },
  {
   "cell_type": "code",
   "execution_count": 310,
   "metadata": {
    "deletable": false,
    "nbgrader": {
     "checksum": "5566b83171846e605cf20008ef8a7627",
     "grade": false,
     "grade_id": "cell-8051461f466d9ac5",
     "locked": false,
     "schema_version": 1,
     "solution": true
    }
   },
   "outputs": [],
   "source": [
    "# create the dataframe df2 here\n",
    "# YOUR CODE HERE\n",
    "avg_age = df['age'].mean()\n",
    "std_age = df['age'].std()\n",
    "avg_income = df['income'].mean()\n",
    "std_income = df['income'].std()\n",
    "\n",
    "df2 = df.copy(deep=True) #create new dataframe df2, deep=True is used so that changes on df2 WON'T affect original df.\n",
    "\n",
    "df2['age'] = df2['age'].apply(lambda x : (x - avg_age)/std_age)\n",
    "df2['income'] = df2['income'].apply(lambda x : (x - avg_income)/std_income)\n",
    "#print(\"df:\\n\", df)\n",
    "#print(\"df2:\\n\", df2)"
   ]
  },
  {
   "cell_type": "code",
   "execution_count": 309,
   "metadata": {
    "deletable": false,
    "editable": false,
    "nbgrader": {
     "checksum": "ebafa800150667d4fb45685829c17045",
     "grade": true,
     "grade_id": "cell-4571ce3b6a33685a",
     "locked": true,
     "points": 5,
     "schema_version": 1,
     "solution": false
    }
   },
   "outputs": [],
   "source": [
    "# 5 points\n",
    "np.testing.assert_equal(set(df2.columns), {'age', 'group', 'income'})\n",
    "np.testing.assert_almost_equal(df2['age'].mean(), 0)\n",
    "np.testing.assert_almost_equal(df2['age'].std(), 1, decimal=1)\n",
    "np.testing.assert_almost_equal(df2['income'].mean(), 0)\n",
    "np.testing.assert_almost_equal(df2['income'].std(), 1, decimal=1)\n",
    "np.testing.assert_array_equal(df['group'], df2['group'])"
   ]
  }
 ],
 "metadata": {
  "celltoolbar": "Edit Metadata",
  "kernel_info": {
   "name": "python3"
  },
  "kernelspec": {
   "display_name": "Python 3",
   "language": "python",
   "name": "python3"
  },
  "language_info": {
   "codemirror_mode": {
    "name": "ipython",
    "version": 3
   },
   "file_extension": ".py",
   "mimetype": "text/x-python",
   "name": "python",
   "nbconvert_exporter": "python",
   "pygments_lexer": "ipython3",
   "version": "3.7.1"
  },
  "name": "lab1-no-key",
  "notebookId": 3197279189044075,
  "nteract": {
   "version": "0.12.3"
  }
 },
 "nbformat": 4,
 "nbformat_minor": 2
}
